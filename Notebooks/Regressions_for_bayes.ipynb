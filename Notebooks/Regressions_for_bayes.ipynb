{
 "metadata": {
  "language_info": {
   "codemirror_mode": {
    "name": "ipython",
    "version": 3
   },
   "file_extension": ".py",
   "mimetype": "text/x-python",
   "name": "python",
   "nbconvert_exporter": "python",
   "pygments_lexer": "ipython3",
   "version": "3.7.7-final"
  },
  "orig_nbformat": 2,
  "kernelspec": {
   "name": "python3",
   "display_name": "Python 3",
   "language": "python"
  }
 },
 "nbformat": 4,
 "nbformat_minor": 2,
 "cells": [
  {
   "cell_type": "code",
   "execution_count": null,
   "metadata": {},
   "outputs": [],
   "source": [
    "import pandas as pd \n",
    "from os.path import join\n",
    "import matplotlib.pyplot as plt\n",
    "import itertools\n",
    "import numpy as np\n",
    "from sklearn.linear_model import LinearRegression\n",
    "\n",
    "%matplotlib inline"
   ]
  },
  {
   "cell_type": "code",
   "execution_count": null,
   "metadata": {},
   "outputs": [],
   "source": [
    "data_dir = join('.','..', 'Data')\n",
    "files = !ls $data_dir\n",
    "files = [f for f in files if f.endswith('.csv')]\n",
    "ids = list(set([x[:3] for x in files]))\n",
    "# files = random.sample(files, 2)"
   ]
  },
  {
   "cell_type": "code",
   "execution_count": null,
   "metadata": {},
   "outputs": [],
   "source": [
    "raven = pd.read_csv(join(data_dir, 'raven.csvx'))\n",
    "raven = raven[:-1]\n",
    "raven = raven[[\"Unnamed: 0\", \"Result\"]]\n",
    "raven.columns = ['Part_id', \"Result\"]\n",
    "raven.Result = raven.Result.str.replace(\",\", '.').astype(np.float)\n",
    "raven.set_index(\"Part_id\", inplace=True)\n",
    "raven.loc[162]"
   ]
  },
  {
   "cell_type": "code",
   "execution_count": null,
   "metadata": {},
   "outputs": [],
   "source": [
    "results = [[\"Part_id\", \"R^2\", \"Intercept\", \"Slope\", \"First_block_corr\", \"Raven\", \"TAO\"]]\n",
    "for idx, f in enumerate(files):\n",
    "    data = pd.read_csv(join(data_dir,f))\n",
    "    data[\"Block_no\"] = 0\n",
    "    assert data.shape[0] == 590\n",
    "    for i in list(range(11)): # add block no\n",
    "        data[50*i + 40:50*(i+1) + 40].Block_no = i+1\n",
    "    data = data.query(\"Trial_type != 'training'\")\n",
    "    corr = data.query(\"Block_no == 1\").mean().Corr\n",
    "    adaptive_block_correctness = data.query(\"Block_no > 1\").groupby(\"Block_no\").mean().Corr.to_numpy()\n",
    "    block_no = np.array(range(1, 11)).reshape((-1, 1))\n",
    "    model = LinearRegression(normalize=False)\n",
    "    model.fit(block_no, adaptive_block_correctness)\n",
    "    r_sq = round(model.score(block_no, adaptive_block_correctness), 5)\n",
    "    intercept = round(model.intercept_, 5)\n",
    "    slope = round(model.coef_[0], 5)\n",
    "    part_id = f.split(\"_\")[0]\n",
    "    if \"M\" in part_id:\n",
    "        raven_res = raven.loc[int(part_id.split('M')[0])] \n",
    "    elif \"K\" in part_id:\n",
    "        raven_res = raven.loc[int(part_id.split('K')[0])]\n",
    "    results.append([part_id, r_sq, intercept, slope, corr, raven_res, \"TAO\"])"
   ]
  },
  {
   "cell_type": "code",
   "execution_count": null,
   "metadata": {},
   "outputs": [],
   "source": [
    "results"
   ]
  },
  {
   "cell_type": "code",
   "execution_count": null,
   "metadata": {},
   "outputs": [],
   "source": [
    "model = LinearRegression().fit(block_no, adaptive_block_correctness)"
   ]
  }
 ]
}